{
  "nbformat": 4,
  "nbformat_minor": 0,
  "metadata": {
    "colab": {
      "name": "Insights.ipynb",
      "version": "0.3.2",
      "provenance": [],
      "collapsed_sections": []
    },
    "kernelspec": {
      "name": "python3",
      "display_name": "Python 3"
    }
  },
  "cells": [
    {
      "cell_type": "markdown",
      "metadata": {
        "id": "degBoysyMHSg",
        "colab_type": "text"
      },
      "source": [
        "# Tensorflow Insights\n",
        "\n",
        "Agenda:\n",
        "\n",
        "1.   Understand Tensorflow's computation graph approach\n",
        ">*   What is Tensor? \n",
        ">*   What are the graphs?\n",
        "4.   Explore Tensorflow's built-in functions and classes\n",
        ">*   Basic operations\n",
        ">*   Data types - constants\n",
        ">*   Data types - variables\n",
        ">*   Data types - placeholders\n",
        ">*   The differences (tensorflow vs. standard python/pandas)\n",
        "\n",
        "\n",
        "\n",
        "---\n",
        "\n",
        "## Understand Tensorflow\n",
        "### What is Tensor?\n",
        "\n",
        "\n",
        "*   Multi-dimensional array\n",
        ">*   0-d tensor: scalar (number)\n",
        ">*   1-d tensor: vector\n",
        ">*   2-d tensor: matrix\n",
        "\n",
        "Importing the library"
      ]
    },
    {
      "cell_type": "code",
      "metadata": {
        "id": "6N68_iJ-MCPA",
        "colab_type": "code",
        "colab": {}
      },
      "source": [
        "import tensorflow as tf"
      ],
      "execution_count": 0,
      "outputs": []
    },
    {
      "cell_type": "markdown",
      "metadata": {
        "id": "eKx1cyZtPTWi",
        "colab_type": "text"
      },
      "source": [
        "**Computational graph approach**\n",
        "* Build the GRAPH which represents the data flow of the computation\n",
        "* Run the SESSION which executes the operation on the graph\n",
        "\n",
        "**Graph**\n",
        "* Nodes = Operations\n",
        "* Edges = Tensors\n",
        "\n",
        "**Session**\n",
        "* Tensor = data\n",
        "* Tensor + flow = data + flow"
      ]
    },
    {
      "cell_type": "code",
      "metadata": {
        "id": "S9jtabVTP5tu",
        "colab_type": "code",
        "colab": {}
      },
      "source": [
        "a = 2\n",
        "b = 3\n",
        "c = tf.add(a, b, name='Add')\n",
        "print(c)\n",
        "\n",
        "with tf.Session() as sess:\n",
        "  print(sess.run(c))\n"
      ],
      "execution_count": 0,
      "outputs": []
    },
    {
      "cell_type": "markdown",
      "metadata": {
        "id": "d-tPWiMEQntG",
        "colab_type": "text"
      },
      "source": [
        "## Explore Tensorflow\n",
        "\n",
        "### Constants\n",
        "\n",
        "Creating a constant in TensorFlow\n",
        "\n"
      ]
    },
    {
      "cell_type": "code",
      "metadata": {
        "id": "Z2xXup7pRUIp",
        "colab_type": "code",
        "colab": {}
      },
      "source": [
        "# tf.constant(value, dtype=None, shape=None, name='Const', verify_shape=False)\n",
        "# constant of 1d tensor (vector)\n",
        "a = tf.constant([2, 2], name=\"vector\")\n",
        "# constant of 2x2 tensor (matrix)\n",
        "b = tf.constant([[0, 1], [2, 3]], name=\"matrix\")\n",
        "with tf.Session() as sess:\n",
        "  print('a = {}'.format(sess.run(a)))\n",
        "  print('b = {}'.format(sess.run(b)))\n"
      ],
      "execution_count": 0,
      "outputs": []
    },
    {
      "cell_type": "markdown",
      "metadata": {
        "id": "PPaNIwn1RdZm",
        "colab_type": "text"
      },
      "source": [
        "You can create a tensor of a specific dimension and fill it with a specific value, similar to Numpy.\n"
      ]
    },
    {
      "cell_type": "code",
      "metadata": {
        "id": "DY52bzALRiO5",
        "colab_type": "code",
        "colab": {}
      },
      "source": [
        "\n",
        "# tf.zeros(shape, dtype=tf.float32, name=None)\n",
        "# create a tensor of shape and all elements are zeros\n",
        "with tf.Session() as sess:\n",
        "  print(sess.run(tf.zeros([2, 3], tf.int32))) # ==> [[0, 0, 0], [0, 0, 0]]\n"
      ],
      "execution_count": 0,
      "outputs": []
    },
    {
      "cell_type": "code",
      "metadata": {
        "id": "QVTG3-LERlfN",
        "colab_type": "code",
        "colab": {}
      },
      "source": [
        "\n",
        "# tf.zeros_like(input_tensor, dtype=None, name=None, optimize=True)\n",
        "# create a tensor of shape and type (unless type is specified) as the input_tensor but all elements are zeros.\n",
        "input_tensor = [[0, 1], [2, 3], [4, 5]]\n",
        "with tf.Session() as sess:\n",
        "  print(sess.run(tf.zeros_like(input_tensor))) # ==> [[0, 0], [0, 0], [0, 0]]\n"
      ],
      "execution_count": 0,
      "outputs": []
    },
    {
      "cell_type": "markdown",
      "metadata": {
        "id": "OqjEXPcNmg3I",
        "colab_type": "text"
      },
      "source": [
        "## Exercise\n",
        "\n",
        "Create a tensor of the same shape as above, but with all elements ones"
      ]
    },
    {
      "cell_type": "code",
      "metadata": {
        "id": "AAsso_pKRooj",
        "colab_type": "code",
        "colab": {}
      },
      "source": [
        "\n",
        "# tf.ones(shape, dtype=tf.float32, name=None)\n",
        "# create a tensor of shape and all elements are ones\n"
      ],
      "execution_count": 0,
      "outputs": []
    },
    {
      "cell_type": "markdown",
      "metadata": {
        "id": "P3Hb2NkDmyn0",
        "colab_type": "text"
      },
      "source": [
        "Creat a tensor the same shape as input_tensor, but with all elements ones"
      ]
    },
    {
      "cell_type": "code",
      "metadata": {
        "id": "iVw9VMCcRr4A",
        "colab_type": "code",
        "colab": {}
      },
      "source": [
        "\n",
        "# tf.ones_like(input_tensor, dtype=None, name=None, optimize=True)\n",
        "# create a tensor of shape and type (unless type is specified) as the input_tensor but all elements are ones.\n",
        "# input_tensor is [[0, 1], [2, 3], [4, 5]]\n"
      ],
      "execution_count": 0,
      "outputs": []
    },
    {
      "cell_type": "markdown",
      "metadata": {
        "id": "VIsoJPobm7yw",
        "colab_type": "text"
      },
      "source": [
        "You could also fill the scalar value"
      ]
    },
    {
      "cell_type": "code",
      "metadata": {
        "id": "UaorKfUyRvhX",
        "colab_type": "code",
        "colab": {}
      },
      "source": [
        "\n",
        "# tf.fill(dims, value, name=None) \n",
        "# create a tensor filled with a scalar value.\n",
        "with tf.Session() as sess:\n",
        "  print(sess.run(tf.fill([2, 3], 8))) #==> [[8, 8, 8], [8, 8, 8]]\n"
      ],
      "execution_count": 0,
      "outputs": []
    },
    {
      "cell_type": "markdown",
      "metadata": {
        "id": "jr0MISGER14T",
        "colab_type": "text"
      },
      "source": [
        "You can create constants that are sequences"
      ]
    },
    {
      "cell_type": "code",
      "metadata": {
        "id": "1oHq_m-pRyTA",
        "colab_type": "code",
        "colab": {}
      },
      "source": [
        "\n",
        "# tf.lin_space(start, stop, num, name=None)\n",
        "# create a sequence of num evenly-spaced values are generated beginning at start. If num > 1, the values in the sequence increase by (stop - start) / (num - 1), so that the last one is exactly stop.\n",
        "# comparable to but slightly different from numpy.linspace\n",
        "\n",
        "with tf.Session() as sess:\n",
        "  print(sess.run(tf.lin_space(10.0, 13.0, 4, name=\"linspace\"))) #==> [10.0 11.0 12.0 13.0]\n"
      ],
      "execution_count": 0,
      "outputs": []
    },
    {
      "cell_type": "code",
      "metadata": {
        "id": "zTY7WsC8R8qp",
        "colab_type": "code",
        "colab": {}
      },
      "source": [
        "# tf.range([start], limit=None, delta=1, dtype=None, name='range')\n",
        "# create a sequence of numbers that begins at start and extends by increments of delta up to but not including limit\n",
        "# slight different from range in Python\n",
        "start = 3\n",
        "limit = 18\n",
        "delta = 3\n",
        "# 'start' is 3, 'limit' is 18, 'delta' is 3\n",
        "with tf.Session() as sess:\n",
        "  print(sess.run(tf.range(start, limit, delta))) #==> [3, 6, 9, 12, 15]\n"
      ],
      "execution_count": 0,
      "outputs": []
    },
    {
      "cell_type": "code",
      "metadata": {
        "id": "Ozn6OCBNnr0O",
        "colab_type": "code",
        "colab": {}
      },
      "source": [
        "start = 3\n",
        "limit = 1\n",
        "delta = -0.5\n",
        "# 'start' is 3, 'limit' is 1,  'delta' is -0.5\n",
        "with tf.Session() as sess:\n",
        "  print(sess.run(tf.range(start, limit, delta))) #==> [3, 2.5, 2, 1.5]\n"
      ],
      "execution_count": 0,
      "outputs": []
    },
    {
      "cell_type": "code",
      "metadata": {
        "id": "vXnIOfdin08b",
        "colab_type": "code",
        "colab": {}
      },
      "source": [
        "limit = 5\n",
        "# 'limit' is 5\n",
        "with tf.Session() as sess:\n",
        "  print(sess.run(tf.range(limit))) #==> [0, 1, 2, 3, 4]\n"
      ],
      "execution_count": 0,
      "outputs": []
    },
    {
      "cell_type": "markdown",
      "metadata": {
        "id": "ZJPkIs-uSHmx",
        "colab_type": "text"
      },
      "source": [
        "**Note** unlike NumPy or Python sequences, TensorFlow **sequences are not iterable**.\n",
        "\n",
        "## Exercise \n",
        "\n",
        "Familiarize yourself with the sequences.\n",
        "\n",
        "Generate random constants from a distribution of your choice"
      ]
    },
    {
      "cell_type": "code",
      "metadata": {
        "id": "iN4tJLOWSD1g",
        "colab_type": "code",
        "colab": {}
      },
      "source": [
        "#tf.random.normal(\n",
        "#    shape,\n",
        "#    mean=0.0,\n",
        "#    stddev=1.0,\n",
        "#    dtype=tf.dtypes.float32,\n",
        "#    seed=None,\n",
        "#    name=None\n",
        "#)\n",
        "#tf.truncated_normal\n",
        "#tf.random.truncated_normal(\n",
        "#    shape,\n",
        "#    mean=0.0,\n",
        "#    stddev=1.0,\n",
        "#    dtype=tf.dtypes.float32,\n",
        "#    seed=None,\n",
        "#    name=None\n",
        "#)\n",
        "#tf.random_uniform\n",
        "#    shape,\n",
        "#    minval=0,\n",
        "#    maxval=None,\n",
        "#    dtype=tf.dtypes.float32,\n",
        "#    seed=None,\n",
        "#    name=None\n",
        "#)\n",
        "#tf.random.shuffle(\n",
        "#    value,\n",
        "#    seed=None,\n",
        "#    name=None\n",
        "#)\n",
        "#tf.random.multinomial(\n",
        "#    logits,\n",
        "#    num_samples,\n",
        "#    seed=None,\n",
        "#    name=None,\n",
        "#    output_dtype=None\n",
        "#)\n",
        "#tf.random.gamma(\n",
        "#    shape,\n",
        "#    alpha,\n",
        "#    beta=None,\n",
        "#    dtype=tf.dtypes.float32,\n",
        "#    seed=None,\n",
        "#    name=None\n",
        "#)"
      ],
      "execution_count": 0,
      "outputs": []
    },
    {
      "cell_type": "markdown",
      "metadata": {
        "id": "XwtObvwYScou",
        "colab_type": "text"
      },
      "source": [
        "### Math Operations"
      ]
    },
    {
      "cell_type": "markdown",
      "metadata": {
        "id": "MDLd5EqF2Pev",
        "colab_type": "text"
      },
      "source": [
        "Be sure to read documentation to decide which division to use. tf.divide does exactly Python style division."
      ]
    },
    {
      "cell_type": "code",
      "metadata": {
        "id": "u8wwQ0beSfqX",
        "colab_type": "code",
        "outputId": "a2abd6bb-7b95-449c-a649-4cee75f3f12b",
        "colab": {
          "base_uri": "https://localhost:8080/"
        }
      },
      "source": [
        "import tensorflow as tf\n",
        "a = tf.constant([2, 2], name='a')\n",
        "b = tf.constant([[0, 1], [2, 3]], name='b')\n",
        "with tf.Session() as sess:\n",
        "  print(sess.run(tf.div(b, a)))             \n",
        "  print(sess.run(tf.divide(b, a)))\n",
        "  print(sess.run(tf.truediv(b, a)))\n",
        "  print(sess.run(tf.floordiv(b, a)))\n",
        "  #print(sess.run(tf.realdiv(b, a))) Gives error only works for real values\n",
        "  print(sess.run(tf.truncatediv(b, a)))\n",
        "  print(sess.run(tf.floor_div(b, a)))  "
      ],
      "execution_count": 11,
      "outputs": [
        {
          "output_type": "stream",
          "text": [
            "WARNING: Logging before flag parsing goes to stderr.\n",
            "W0819 16:26:34.751440 140325083666304 deprecation.py:323] From <ipython-input-11-ce65a3fd6a5d>:5: div (from tensorflow.python.ops.math_ops) is deprecated and will be removed in a future version.\n",
            "Instructions for updating:\n",
            "Deprecated in favor of operator or tf.math.divide.\n"
          ],
          "name": "stderr"
        },
        {
          "output_type": "stream",
          "text": [
            "[[0 0]\n",
            " [1 1]]\n",
            "[[0.  0.5]\n",
            " [1.  1.5]]\n",
            "[[0.  0.5]\n",
            " [1.  1.5]]\n",
            "[[0 0]\n",
            " [1 1]]\n",
            "[[0 0]\n",
            " [1 1]]\n",
            "[[0 0]\n",
            " [1 1]]\n"
          ],
          "name": "stdout"
        }
      ]
    },
    {
      "cell_type": "markdown",
      "metadata": {
        "id": "nMFedGksS0tV",
        "colab_type": "text"
      },
      "source": [
        "tf.add_n allows adding multiple tensors\n",
        "\n",
        "tf.add_n([a,b,b]) equivalent to a + b + b\n",
        "\n",
        "Dot product in TensorFlow"
      ]
    },
    {
      "cell_type": "code",
      "metadata": {
        "id": "pKMBPCZTS6zC",
        "colab_type": "code",
        "outputId": "03a1e73f-5020-4cc5-9339-b35ce170944d",
        "colab": {
          "base_uri": "https://localhost:8080/"
        }
      },
      "source": [
        "a = tf.constant([10, 20], name='a')\n",
        "b = tf.constant([2, 3], name='b')\n",
        "with tf.Session() as sess:\n",
        "\tprint(sess.run(tf.multiply(a, b)))           \n",
        "\tprint(sess.run(tf.tensordot(a, b, 1)))"
      ],
      "execution_count": 12,
      "outputs": [
        {
          "output_type": "stream",
          "text": [
            "[20 60]\n",
            "80\n"
          ],
          "name": "stdout"
        }
      ]
    },
    {
      "cell_type": "markdown",
      "metadata": {
        "id": "A-kF47QFTKsh",
        "colab_type": "text"
      },
      "source": [
        "![alt text](https://tensorflowOperations)\n",
        "### Python native types vs. TensorFlow native types\n",
        "\n",
        "TensorFlow takes in Python native types such as \n",
        "\n",
        "* boolean values, numeric values (integers, floats), and strings\n",
        "\n",
        "Single values will be converted to 0-d tensors (or scalars)"
      ]
    },
    {
      "cell_type": "code",
      "metadata": {
        "id": "QjivherH_UOK",
        "colab_type": "code",
        "colab": {
          "base_uri": "https://localhost:8080/",
          "height": 131
        },
        "outputId": "08603d3e-17e7-439b-91fa-b0bd826a1f1c"
      },
      "source": [
        "t_0 = 19 # Treated as a 0-d tensor, or \"scalar\" \n",
        "with tf.Session() as sess:\n",
        "\tprint(sess.run(tf.zeros_like(t_0))) # ==> 0\n",
        "  print(sess.run(tf.ones_like(t_0))) # ==> 1\n"
      ],
      "execution_count": 4,
      "outputs": [
        {
          "output_type": "error",
          "ename": "IndentationError",
          "evalue": "ignored",
          "traceback": [
            "\u001b[0;36m  File \u001b[0;32m\"<ipython-input-4-cca9142e95e0>\"\u001b[0;36m, line \u001b[0;32m4\u001b[0m\n\u001b[0;31m    print(sess.run(tf.ones_like(t_0))) # ==> 1\u001b[0m\n\u001b[0m                                              ^\u001b[0m\n\u001b[0;31mIndentationError\u001b[0m\u001b[0;31m:\u001b[0m unindent does not match any outer indentation level\n"
          ]
        }
      ]
    },
    {
      "cell_type": "markdown",
      "metadata": {
        "id": "eKhdjUlw_g_c",
        "colab_type": "text"
      },
      "source": [
        "Lists of values will be converted to 1-d tensors (vectors)"
      ]
    },
    {
      "cell_type": "code",
      "metadata": {
        "id": "ybsZXrkt_msI",
        "colab_type": "code",
        "colab": {}
      },
      "source": [
        "t_1 = [\"apple\", \"peach\", \"grape\"] # treated as a 1-d tensor, or \"vector\"\n",
        "with tf.Session() as sess:\n",
        "\tprint(sess.run(tf.zeros_like(t_1)))                  # ==> ['' '' '']\n",
        "#tf.ones_like(t_1)                    # ==> TypeError\n",
        "\n"
      ],
      "execution_count": 0,
      "outputs": []
    },
    {
      "cell_type": "markdown",
      "metadata": {
        "id": "-iUswTDQ_z72",
        "colab_type": "text"
      },
      "source": [
        "Lists of lists of values will be converted to 2-d tensors (matrices)\n"
      ]
    },
    {
      "cell_type": "code",
      "metadata": {
        "id": "UOjE7TWU_say",
        "colab_type": "code",
        "colab": {}
      },
      "source": [
        "t_2 = [[True, False, False],\n",
        "       [False, False, True],\n",
        "       [False, True, False]]         # treated as a 2-d tensor, or \"matrix\"\n",
        "\n",
        "with tf.Session() as sess:\n",
        "\tprint(sess.run(tf.zeros_like(t_2)))                   # ==> 3x3 tensor, all elements are False\n"
      ],
      "execution_count": 0,
      "outputs": []
    },
    {
      "cell_type": "code",
      "metadata": {
        "id": "6cwDK3EyqKQG",
        "colab_type": "code",
        "colab": {}
      },
      "source": [
        "with tf.Session() as sess:\n",
        "\tprint(sess.run(tf.ones_like(t_2)))                    # ==> 3x3 tensor, all elements are True\n",
        "\n"
      ],
      "execution_count": 0,
      "outputs": []
    },
    {
      "cell_type": "markdown",
      "metadata": {
        "id": "PiLF7-X8_-RN",
        "colab_type": "text"
      },
      "source": [
        "![alt text](https://tfNativeTypes)\n",
        "\n",
        "TensorFlow was designed to integrate seamlessly with Numpy\n"
      ]
    },
    {
      "cell_type": "code",
      "metadata": {
        "id": "wG2B0TeGQzDp",
        "colab_type": "code",
        "colab": {}
      },
      "source": [
        "import numpy as np\n",
        "with tf.Session() as sess:\n",
        "\tprint(sess.run(tf.ones([2, 2], np.float32))) #==> [[1.0 1.0], [1.0 1.0]]"
      ],
      "execution_count": 0,
      "outputs": []
    },
    {
      "cell_type": "markdown",
      "metadata": {
        "id": "Xgsc07NdQ7rH",
        "colab_type": "text"
      },
      "source": [
        "Most of the times, you can use TensorFlow types and NumPy types interchangeably\n",
        "\n",
        "**Note** \n",
        "* tf.string does not have an exact match in NumPy due to the way NumPy handles strings - TensorFlow can still import string arrays from NumPy perfectly fine -- just don't specify a dtype in NumPy!\n",
        "\n",
        "* Both TensorFlow and NumPy are n-d array libraries. NumPy supports ndarray, but doesn't offer methods to create tensor functions and automatically compute derivatives, nor GPU support. TensorFlow does support GPU.\n",
        "\n",
        "* Python types lack the ability to explicitly state the data type, while TensorFlow's data types are more explicit.e.g Python all integers are of the same type tf has 8-bit, 16-bit, 32-bit, and 64-bit integers available.\n",
        "\n",
        "* Although it is possible to define Tensor objects as NumPy arrays - always use TensorFlow types when possible.\n",
        "\n",
        "### Variables\n",
        "\n",
        "When constants are memory expensive, such as a weight matrix with millions of entries, it will be slow each time you have to load the graph. To see what’s stored in the graph's definition, simply print out the graph's protobuf. Protobuf stands for protocol buffer, \n",
        "\n"
      ]
    },
    {
      "cell_type": "code",
      "metadata": {
        "id": "MKLZOYbiSdOi",
        "colab_type": "code",
        "colab": {}
      },
      "source": [
        "import tensorflow as tf\n",
        "\n",
        "my_const = tf.constant([1.0, 2.0], name=\"my_const\")\n",
        "print(tf.get_default_graph().as_graph_def())"
      ],
      "execution_count": 0,
      "outputs": []
    },
    {
      "cell_type": "markdown",
      "metadata": {
        "id": "GQsVne0xSus0",
        "colab_type": "text"
      },
      "source": [
        "To **declare** a variable, you create an instance of the class tf.Variable. Variable is a class with multiple operations\n",
        "\n",
        "* x = tf.Variable(...) \n",
        "* x.initializer # init \n",
        "* x.value() # read op \n",
        "* x.assign(...) # write op \n",
        "* x.assign_add(...) \n",
        "\n",
        "The old way to create a variable is simply call tf.Variable(<initial-value>, name=<optional-name>)\n"
      ]
    },
    {
      "cell_type": "code",
      "metadata": {
        "id": "U92dF5EFTHvh",
        "colab_type": "code",
        "colab": {}
      },
      "source": [
        "#s = tf.Variable(2, name=\"scalar\") \n",
        "#m = tf.Variable([[0, 1], [2, 3]], name=\"matrix\") \n",
        "#W = tf.Variable(tf.zeros([784,10]))"
      ],
      "execution_count": 0,
      "outputs": []
    },
    {
      "cell_type": "markdown",
      "metadata": {
        "id": "IDvswNpBTLQe",
        "colab_type": "text"
      },
      "source": [
        " this old way is discouraged and TensorFlow recommends that we use the wrapper tf.get_variable, which allows for easy variable sharing"
      ]
    },
    {
      "cell_type": "code",
      "metadata": {
        "id": "c8o1MR7pTXBr",
        "colab_type": "code",
        "colab": {}
      },
      "source": [
        "#tf.get_variable(\n",
        "#    name,\n",
        "#    shape=None,\n",
        "#    dtype=None,\n",
        "#    initializer=None,\n",
        "#    regularizer=None,\n",
        "#    trainable=True,\n",
        "#    collections=None,\n",
        "#    caching_device=None,\n",
        "#    partitioner=None,\n",
        "#    validate_shape=True,\n",
        "#    use_resource=None,\n",
        "#    custom_getter=None,\n",
        "#    constraint=None\n",
        "#)\n"
      ],
      "execution_count": 0,
      "outputs": []
    },
    {
      "cell_type": "code",
      "metadata": {
        "id": "h4oW9h0ITYvu",
        "colab_type": "code",
        "colab": {}
      },
      "source": [
        "#s = tf.get_variable(\"scalar\", initializer=tf.constant(2)) \n",
        "#m = tf.get_variable(\"matrix\", initializer=tf.constant([[0, 1], [2, 3]]))\n",
        "#W = tf.get_variable(\"big_matrix\", shape=(784, 10), initializer=tf.zeros_initializer())"
      ],
      "execution_count": 0,
      "outputs": []
    },
    {
      "cell_type": "markdown",
      "metadata": {
        "id": "BiX1eI8fTjUB",
        "colab_type": "text"
      },
      "source": [
        "You have to **initialize** a variable before using it.\n",
        "\n",
        "To get a list of uninitialized variables, you can just print them out:\n"
      ]
    },
    {
      "cell_type": "code",
      "metadata": {
        "id": "RNTS5xmtTswg",
        "colab_type": "code",
        "colab": {}
      },
      "source": [
        "with tf.Session() as sess:\n",
        "\tprint(sess.run(tf.report_uninitialized_variables()))"
      ],
      "execution_count": 0,
      "outputs": []
    },
    {
      "cell_type": "markdown",
      "metadata": {
        "id": "w6X7JiNUTwWr",
        "colab_type": "text"
      },
      "source": [
        "The easiest way is initialize all variables at once"
      ]
    },
    {
      "cell_type": "code",
      "metadata": {
        "id": "8pFb2f2BTznF",
        "colab_type": "code",
        "colab": {}
      },
      "source": [
        "with tf.Session() as sess:\n",
        "\tsess.run(tf.global_variables_initializer())"
      ],
      "execution_count": 0,
      "outputs": []
    },
    {
      "cell_type": "markdown",
      "metadata": {
        "id": "MLhtmur5T2nk",
        "colab_type": "text"
      },
      "source": [
        "In this case, you use tf.Session.run() to fetch an initializer op, not a tensor op like we have used it previously.\n",
        "\n",
        "To initialize only a subset of variables, you use tf.variables_initializer() with a list of variables you want to initialize:\n"
      ]
    },
    {
      "cell_type": "code",
      "metadata": {
        "id": "SjW8DatoT6jp",
        "colab_type": "code",
        "colab": {}
      },
      "source": [
        "with tf.Session() as sess:\n",
        "\tsess.run(tf.variables_initializer([a, b]))"
      ],
      "execution_count": 0,
      "outputs": []
    },
    {
      "cell_type": "markdown",
      "metadata": {
        "id": "nmxISeasUDWl",
        "colab_type": "text"
      },
      "source": [
        "You can also initialize each variable separately using tf.Variable.initializer"
      ]
    },
    {
      "cell_type": "code",
      "metadata": {
        "id": "pg6MITAbT_BH",
        "colab_type": "code",
        "colab": {}
      },
      "source": [
        "with tf.Session() as sess:\n",
        "\tsess.run(W.initializer)"
      ],
      "execution_count": 0,
      "outputs": []
    },
    {
      "cell_type": "markdown",
      "metadata": {
        "id": "jLMZfhPxUJac",
        "colab_type": "text"
      },
      "source": [
        "Another way to initialize a variable is to load its value from a file\n",
        "\n",
        "To **evaluate** the variable we need to fetch it within a session"
      ]
    },
    {
      "cell_type": "code",
      "metadata": {
        "id": "iI6m65IFUZG9",
        "colab_type": "code",
        "colab": {}
      },
      "source": [
        "import tensorflow as tf\n",
        "# V is a 784 x 10 variable of random values\n",
        "V = tf.get_variable(\"normal_matrix\", shape=(784, 10), \n",
        "                     initializer=tf.truncated_normal_initializer())\n",
        "\n",
        "with tf.Session() as sess:\n",
        "\tsess.run(tf.global_variables_initializer())\n",
        "\tprint(sess.run(V))"
      ],
      "execution_count": 0,
      "outputs": []
    },
    {
      "cell_type": "markdown",
      "metadata": {
        "id": "-GmyS0fkUdbD",
        "colab_type": "text"
      },
      "source": [
        "You can also get a variable’s value from tf.Variable.eval()\n"
      ]
    },
    {
      "cell_type": "code",
      "metadata": {
        "id": "QLnnR6FJUgfW",
        "colab_type": "code",
        "colab": {}
      },
      "source": [
        "with tf.Session() as sess:\n",
        "\tsess.run(tf.global_variables_initializer())\n",
        "  print(V.eval())"
      ],
      "execution_count": 0,
      "outputs": []
    },
    {
      "cell_type": "markdown",
      "metadata": {
        "id": "Ds642XBIUlQo",
        "colab_type": "text"
      },
      "source": [
        "To **assign** a value to a variable use tf.Variable.assign()"
      ]
    },
    {
      "cell_type": "code",
      "metadata": {
        "id": "SCKDJgNxUt8E",
        "colab_type": "code",
        "colab": {}
      },
      "source": [
        "W = tf.Variable(10)\n",
        "W.assign(100)\n",
        "with tf.Session() as sess:\n",
        "\tsess.run(W.initializer)\n",
        "\tprint(W.eval()) # >> 10"
      ],
      "execution_count": 0,
      "outputs": []
    },
    {
      "cell_type": "markdown",
      "metadata": {
        "id": "IAHa5ZUZUw7I",
        "colab_type": "text"
      },
      "source": [
        "Why 10 and not 100? W.assign(100) doesn't assign the value 100 to W, but instead create an assign op to do that. For this op to take effect, we have to run this op in session. "
      ]
    },
    {
      "cell_type": "code",
      "metadata": {
        "id": "zeT2D4SaU2rB",
        "colab_type": "code",
        "colab": {}
      },
      "source": [
        "W = tf.Variable(10)\n",
        "\n",
        "assign_op = W.assign(100)\n",
        "with tf.Session() as sess:\n",
        "\tsess.run(assign_op)\n",
        "\tprint(W.eval()) # >> 100"
      ],
      "execution_count": 0,
      "outputs": []
    },
    {
      "cell_type": "markdown",
      "metadata": {
        "id": "jlg5M3dQU3sI",
        "colab_type": "text"
      },
      "source": [
        "Note that we don't have to initialize W in this case, because assign() does it for us. In fact, the initializer op is an assign op that assigns the variable's initial value to the variable itself.\n"
      ]
    },
    {
      "cell_type": "code",
      "metadata": {
        "id": "HWHKpss-U8MV",
        "colab_type": "code",
        "colab": {}
      },
      "source": [
        "# in the source code\n",
        "self._initializer_op = state_ops.assign(self._variable, self._initial_value,\n",
        "                                        validate_shape=validate_shape).op"
      ],
      "execution_count": 0,
      "outputs": []
    },
    {
      "cell_type": "markdown",
      "metadata": {
        "id": "tz2zkotzVDVZ",
        "colab_type": "text"
      },
      "source": [
        "Interesting example:"
      ]
    },
    {
      "cell_type": "code",
      "metadata": {
        "id": "vDaEb14wVI2i",
        "colab_type": "code",
        "colab": {}
      },
      "source": [
        "# create a variable whose original value is 2\n",
        "import tensorflow as tf\n",
        "a = tf.get_variable('scalar', initializer=tf.constant(2)) \n",
        "a_times_two = a.assign(a * 2)\n",
        "with tf.Session() as sess:\n",
        "\tsess.run(tf.global_variables_initializer()) \n",
        "\tprint(sess.run(a_times_two)) # >> 4\n",
        "\tprint(sess.run(a_times_two)) # >> 8\n",
        "\tprint(sess.run(a_times_two)) # >> 16"
      ],
      "execution_count": 0,
      "outputs": []
    },
    {
      "cell_type": "markdown",
      "metadata": {
        "id": "F7mOzUUbVQny",
        "colab_type": "text"
      },
      "source": [
        "Simply incrementing, decrementing a variable"
      ]
    },
    {
      "cell_type": "code",
      "metadata": {
        "id": "fbsmVYKaVPUp",
        "colab_type": "code",
        "colab": {}
      },
      "source": [
        "W = tf.Variable(10)\n",
        "\n",
        "with tf.Session() as sess:\n",
        "\tsess.run(W.initializer)\n",
        "\tprint(sess.run(W.assign_add(10))) # >> 20\n",
        "\tprint(sess.run(W.assign_sub(2)))  # >> 18"
      ],
      "execution_count": 0,
      "outputs": []
    },
    {
      "cell_type": "markdown",
      "metadata": {
        "id": "q-PVl5MxVY3i",
        "colab_type": "text"
      },
      "source": [
        "TensorFlow sessions maintain values separately, therefore each Session can have its own current value for a variable defined in a graph."
      ]
    },
    {
      "cell_type": "code",
      "metadata": {
        "id": "Zyv2TiOkVb3m",
        "colab_type": "code",
        "colab": {}
      },
      "source": [
        "W = tf.Variable(10)\n",
        "sess1 = tf.Session()\n",
        "sess2 = tf.Session()\n",
        "sess1.run(W.initializer)\n",
        "sess2.run(W.initializer)\n",
        "print(sess1.run(W.assign_add(10)))\t\t# >> 20\n",
        "print(sess2.run(W.assign_sub(2)))\t\t# >> 8\n",
        "print(sess1.run(W.assign_add(100)))\t\t# >> 120\n",
        "print(sess2.run(W.assign_sub(50)))\t\t# >> -42\n",
        "sess1.close()\n",
        "sess2.close()"
      ],
      "execution_count": 0,
      "outputs": []
    },
    {
      "cell_type": "markdown",
      "metadata": {
        "id": "4MGMAf6dVfwG",
        "colab_type": "text"
      },
      "source": [
        "suppose you want to declare U = W * 2"
      ]
    },
    {
      "cell_type": "code",
      "metadata": {
        "id": "8J8SnTS_Vlfk",
        "colab_type": "code",
        "colab": {}
      },
      "source": [
        "# W is a random 700 x 10 tensor\n",
        "W = tf.Variable(tf.truncated_normal([700, 10]))\n",
        "U = tf.Variable(W * 2)"
      ],
      "execution_count": 0,
      "outputs": []
    },
    {
      "cell_type": "markdown",
      "metadata": {
        "id": "2rDtg62fVoro",
        "colab_type": "text"
      },
      "source": [
        "In this case, you should use initialized_value() to make sure that W is initialized before its value is used to initialize U.\n"
      ]
    },
    {
      "cell_type": "code",
      "metadata": {
        "id": "NfO4k-jxVtha",
        "colab_type": "code",
        "colab": {}
      },
      "source": [
        "U = tf.Variable(W.initialized_value() * 2)"
      ],
      "execution_count": 0,
      "outputs": []
    },
    {
      "cell_type": "markdown",
      "metadata": {
        "id": "oeI_TBMcVuh2",
        "colab_type": "text"
      },
      "source": [
        "### Interactive session"
      ]
    },
    {
      "cell_type": "code",
      "metadata": {
        "id": "ZwVeHLi0V38q",
        "colab_type": "code",
        "colab": {}
      },
      "source": [
        "sess = tf.InteractiveSession()\n",
        "a = tf.constant(5.0)\n",
        "b = tf.constant(6.0)\n",
        "c = a * b\n",
        "print(c.eval()) # we can use 'c.eval()' without explicitly stating a session\n",
        "sess.close()"
      ],
      "execution_count": 0,
      "outputs": []
    },
    {
      "cell_type": "markdown",
      "metadata": {
        "id": "GTbz0vWuV43g",
        "colab_type": "text"
      },
      "source": [
        "### Control Dependencies\n",
        "\n",
        "Sometimes, we have two or more independent ops and we'd like to specify which ops should be run first. In this case, we use tf.Graph.control_dependencies([control_inputs]).\n"
      ]
    },
    {
      "cell_type": "code",
      "metadata": {
        "id": "u54zSE87WHjB",
        "colab_type": "code",
        "colab": {}
      },
      "source": [
        "# your graph g have 5 ops: a, b, c, d, e\n",
        "with g.control_dependencies([a, b, c]):\n",
        "  # `d` and `e` will only run after `a`, `b`, and `c` have executed.\n",
        "  d = ...\n",
        "  e = …"
      ],
      "execution_count": 0,
      "outputs": []
    }
  ]
}